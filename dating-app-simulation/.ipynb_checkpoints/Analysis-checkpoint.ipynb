{
 "cells": [
  {
   "cell_type": "code",
   "execution_count": 1,
   "metadata": {},
   "outputs": [],
   "source": [
    "import pandas as pd\n",
    "import numpy as np\n",
    "import matplotlib.pyplot as plt\n",
    "import seaborn as sns\n",
    "%matplotlib inline\n",
    "\n"
   ]
  },
  {
   "cell_type": "code",
   "execution_count": 2,
   "metadata": {},
   "outputs": [],
   "source": [
    "# read in the data\n",
    "# get the regular counts for the analysis on question one\n",
    "# CL1_counts_df = pd.read_csv(\"CL1 DATE꞉ 12꞉6꞉2019 TIME꞉ 7꞉27 COUNTS.csv\")\n",
    "CL1_counts_df = pd.read_csv('CL1_Normal_Counts.csv')\n",
    "CL2_counts_df = pd.read_csv('CL2_Normal_Counts.csv')\n",
    "# CL3_counts_df = pd.read_csv(file = 'CL3_Normal_Counts.csv')\n",
    "\n",
    "\n",
    "# get the data for validation\n",
    "CL1_validation = pd.read_csv('CL1_Validation_Counts.csv')\n",
    "CL2_validation = pd.read_csv('CL2_Validation_Counts.csv')\n",
    "# CL3_validation = pd.read_csv('CL3_Validation_Counts.csv')"
   ]
  },
  {
   "cell_type": "markdown",
   "metadata": {},
   "source": [
    "# Validation"
   ]
  },
  {
   "cell_type": "code",
   "execution_count": 4,
   "metadata": {},
   "outputs": [
    {
     "name": "stdout",
     "output_type": "stream",
     "text": [
      "0.005\n",
      "0.139\n"
     ]
    },
    {
     "data": {
      "image/png": "[encoded data removed]",
      "text/plain": [
       "<Figure size 648x432 with 1 Axes>"
      ]
     },
     "metadata": {},
     "output_type": "display_data"
    }
   ],
   "source": [
    "# first looking at amount of matches\n",
    "data_to_plot = [CL1_validation[\"matches\"], CL2_validation[\"matches\"]]#, CL3_validation[\"matches\"]]\n",
    "\n",
    "print(CL1_validation[\"matches\"].mean())\n",
    "print(CL2_validation[\"matches\"].mean())\n",
    "# print(CL3_counts_df[\"matches\"].mean())\n",
    "\n",
    "# Create a figure instance\n",
    "fig = plt.figure(1, figsize=(9, 6))\n",
    "\n",
    "# Create an axes instance\n",
    "ax = fig.add_subplot(111)\n",
    "\n",
    "# Create the boxplot\n",
    "bp = ax.boxplot(data_to_plot)\n",
    "\n",
    "\n",
    "\n",
    "# we expect this box plot to look \"strange,\" because the majority\n",
    "# of our points are 0 for the validation. it is not very often\n",
    "# that we get the values 1 or 2 for matches."
   ]
  },
  {
   "cell_type": "code",
   "execution_count": null,
   "metadata": {},
   "outputs": [],
   "source": [
    "# compare means for all three levels\n",
    "\n",
    "# running an ANOVA\n",
    "stats.f_oneway(CL1_validation['matches'], \n",
    "               CL2_validation['matches'],\n",
    "               CL3_validation['matches'])"
   ]
  },
  {
   "cell_type": "markdown",
   "metadata": {},
   "source": [
    "# Analysis"
   ]
  },
  {
   "cell_type": "markdown",
   "metadata": {},
   "source": [
    "## Question 1\n",
    "\n",
    "Does the degree of complexity increase the liklihood for a higher quality match?\n",
    "\n",
    "Definitions:\n",
    "\n",
    "High quality match: a match in which the message count is high\n",
    "- the higher the message count, the higher quality of the match\n",
    "\n",
    "Approach:\n",
    "- Proceed with an ANOVA Test\n",
    "\n",
    "\n",
    "Hypothesis:\n",
    "\n",
    "Null: There is no difference for the quality of matches between the three different complexity levels\n",
    "- Ho: mean(CL1) = mean(CL2) = mean(CL3)\n",
    "\n",
    "Alternative: At least one mean differs between the three complexity levels\n",
    "- Ha: At least one mean differs\n",
    "\n",
    "\n",
    "\n",
    "\n",
    "\n",
    "\n"
   ]
  },
  {
   "cell_type": "code",
   "execution_count": 11,
   "metadata": {},
   "outputs": [
    {
     "data": {
      "text/html": [
       "<div>\n",
       "<style scoped>\n",
       "    .dataframe tbody tr th:only-of-type {\n",
       "        vertical-align: middle;\n",
       "    }\n",
       "\n",
       "    .dataframe tbody tr th {\n",
       "        vertical-align: top;\n",
       "    }\n",
       "\n",
       "    .dataframe thead th {\n",
       "        text-align: right;\n",
       "    }\n",
       "</style>\n",
       "<table border=\"1\" class=\"dataframe\">\n",
       "  <thead>\n",
       "    <tr style=\"text-align: right;\">\n",
       "      <th></th>\n",
       "      <th>Unnamed: 0</th>\n",
       "      <th>matches</th>\n",
       "      <th>likes</th>\n",
       "      <th>dislikes</th>\n",
       "      <th>males</th>\n",
       "      <th>females</th>\n",
       "      <th>messages</th>\n",
       "      <th>message_per_match</th>\n",
       "    </tr>\n",
       "  </thead>\n",
       "  <tbody>\n",
       "    <tr>\n",
       "      <th>0</th>\n",
       "      <td>0</td>\n",
       "      <td>147</td>\n",
       "      <td>602</td>\n",
       "      <td>620</td>\n",
       "      <td>26</td>\n",
       "      <td>24</td>\n",
       "      <td>128</td>\n",
       "      <td>0.870748</td>\n",
       "    </tr>\n",
       "    <tr>\n",
       "      <th>1</th>\n",
       "      <td>1</td>\n",
       "      <td>118</td>\n",
       "      <td>538</td>\n",
       "      <td>609</td>\n",
       "      <td>31</td>\n",
       "      <td>19</td>\n",
       "      <td>104</td>\n",
       "      <td>0.881356</td>\n",
       "    </tr>\n",
       "    <tr>\n",
       "      <th>2</th>\n",
       "      <td>2</td>\n",
       "      <td>101</td>\n",
       "      <td>438</td>\n",
       "      <td>511</td>\n",
       "      <td>37</td>\n",
       "      <td>13</td>\n",
       "      <td>78</td>\n",
       "      <td>0.772277</td>\n",
       "    </tr>\n",
       "    <tr>\n",
       "      <th>3</th>\n",
       "      <td>3</td>\n",
       "      <td>122</td>\n",
       "      <td>489</td>\n",
       "      <td>526</td>\n",
       "      <td>35</td>\n",
       "      <td>15</td>\n",
       "      <td>85</td>\n",
       "      <td>0.696721</td>\n",
       "    </tr>\n",
       "    <tr>\n",
       "      <th>4</th>\n",
       "      <td>4</td>\n",
       "      <td>116</td>\n",
       "      <td>552</td>\n",
       "      <td>658</td>\n",
       "      <td>28</td>\n",
       "      <td>22</td>\n",
       "      <td>83</td>\n",
       "      <td>0.715517</td>\n",
       "    </tr>\n",
       "  </tbody>\n",
       "</table>\n",
       "</div>"
      ],
      "text/plain": [
       "   Unnamed: 0  matches  likes  dislikes  males  females  messages  \\\n",
       "0           0      147    602       620     26       24       128   \n",
       "1           1      118    538       609     31       19       104   \n",
       "2           2      101    438       511     37       13        78   \n",
       "3           3      122    489       526     35       15        85   \n",
       "4           4      116    552       658     28       22        83   \n",
       "\n",
       "   message_per_match  \n",
       "0           0.870748  \n",
       "1           0.881356  \n",
       "2           0.772277  \n",
       "3           0.696721  \n",
       "4           0.715517  "
      ]
     },
     "execution_count": 11,
     "metadata": {},
     "output_type": "execute_result"
    }
   ],
   "source": []
  },
  {
   "cell_type": "code",
   "execution_count": 31,
   "metadata": {},
   "outputs": [
    {
     "name": "stdout",
     "output_type": "stream",
     "text": [
      "821.84\n",
      "131.25\n"
     ]
    },
    {
     "data": {
      "image/png": "[encoded data removed]",
      "text/plain": [
       "<Figure size 648x432 with 1 Axes>"
      ]
     },
     "metadata": {},
     "output_type": "display_data"
    }
   ],
   "source": [
    "# first looking at amount of matches\n",
    "data_to_plot = [CL1_counts_df[\"matches\"], CL2_counts_df[\"matches\"]]#, CL1_counts_df[\"matches\"]]\n",
    "\n",
    "print(CL1_counts_df[\"matches\"].mean())\n",
    "print(CL2_counts_df[\"matches\"].mean())\n",
    "# print(CL3_counts_df[\"matches\"].mean())\n",
    "\n",
    "# Create a figure instance\n",
    "fig = plt.figure(1, figsize=(9, 6))\n",
    "\n",
    "# Create an axes instance\n",
    "ax = fig.add_subplot(111)\n",
    "\n",
    "# Create the boxplot\n",
    "bp = ax.boxplot(data_to_plot)\n",
    "\n",
    "# Save the figure\n"
   ]
  },
  {
   "cell_type": "code",
   "execution_count": 30,
   "metadata": {},
   "outputs": [
    {
     "data": {
      "text/html": [
       "<div>\n",
       "<style scoped>\n",
       "    .dataframe tbody tr th:only-of-type {\n",
       "        vertical-align: middle;\n",
       "    }\n",
       "\n",
       "    .dataframe tbody tr th {\n",
       "        vertical-align: top;\n",
       "    }\n",
       "\n",
       "    .dataframe thead th {\n",
       "        text-align: right;\n",
       "    }\n",
       "</style>\n",
       "<table border=\"1\" class=\"dataframe\">\n",
       "  <thead>\n",
       "    <tr style=\"text-align: right;\">\n",
       "      <th></th>\n",
       "      <th>Unnamed: 0</th>\n",
       "      <th>matches</th>\n",
       "      <th>likes</th>\n",
       "      <th>like_with_message</th>\n",
       "      <th>dislikes</th>\n",
       "      <th>males</th>\n",
       "      <th>females</th>\n",
       "      <th>messages</th>\n",
       "      <th>message_per_match</th>\n",
       "    </tr>\n",
       "  </thead>\n",
       "  <tbody>\n",
       "    <tr>\n",
       "      <th>0</th>\n",
       "      <td>0</td>\n",
       "      <td>134</td>\n",
       "      <td>8742</td>\n",
       "      <td>3613</td>\n",
       "      <td>71218</td>\n",
       "      <td>676</td>\n",
       "      <td>324</td>\n",
       "      <td>70</td>\n",
       "      <td>0.522388</td>\n",
       "    </tr>\n",
       "    <tr>\n",
       "      <th>1</th>\n",
       "      <td>1</td>\n",
       "      <td>119</td>\n",
       "      <td>8479</td>\n",
       "      <td>3436</td>\n",
       "      <td>71480</td>\n",
       "      <td>682</td>\n",
       "      <td>318</td>\n",
       "      <td>74</td>\n",
       "      <td>0.621849</td>\n",
       "    </tr>\n",
       "    <tr>\n",
       "      <th>2</th>\n",
       "      <td>2</td>\n",
       "      <td>123</td>\n",
       "      <td>8647</td>\n",
       "      <td>3602</td>\n",
       "      <td>71304</td>\n",
       "      <td>695</td>\n",
       "      <td>305</td>\n",
       "      <td>88</td>\n",
       "      <td>0.715447</td>\n",
       "    </tr>\n",
       "    <tr>\n",
       "      <th>3</th>\n",
       "      <td>3</td>\n",
       "      <td>148</td>\n",
       "      <td>8614</td>\n",
       "      <td>3524</td>\n",
       "      <td>71355</td>\n",
       "      <td>690</td>\n",
       "      <td>310</td>\n",
       "      <td>110</td>\n",
       "      <td>0.743243</td>\n",
       "    </tr>\n",
       "    <tr>\n",
       "      <th>4</th>\n",
       "      <td>4</td>\n",
       "      <td>151</td>\n",
       "      <td>8647</td>\n",
       "      <td>3524</td>\n",
       "      <td>71141</td>\n",
       "      <td>661</td>\n",
       "      <td>339</td>\n",
       "      <td>83</td>\n",
       "      <td>0.549669</td>\n",
       "    </tr>\n",
       "  </tbody>\n",
       "</table>\n",
       "</div>"
      ],
      "text/plain": [
       "   Unnamed: 0  matches  likes  like_with_message  dislikes  males  females  \\\n",
       "0           0      134   8742               3613     71218    676      324   \n",
       "1           1      119   8479               3436     71480    682      318   \n",
       "2           2      123   8647               3602     71304    695      305   \n",
       "3           3      148   8614               3524     71355    690      310   \n",
       "4           4      151   8647               3524     71141    661      339   \n",
       "\n",
       "   messages  message_per_match  \n",
       "0        70           0.522388  \n",
       "1        74           0.621849  \n",
       "2        88           0.715447  \n",
       "3       110           0.743243  \n",
       "4        83           0.549669  "
      ]
     },
     "execution_count": 30,
     "metadata": {},
     "output_type": "execute_result"
    }
   ],
   "source": [
    "# now to look at quality of match\n",
    "\n",
    "\n",
    "\n",
    "# transform the dataset\n",
    "# message per match for complexity level 1\n",
    "CL1_counts_df[\"message_per_match\"] = CL1_counts_df[\"messages\"]/CL1_counts_df[\"matches\"]\n",
    "# to remind us of the dataset\n",
    "# CL1_counts_df.head()\n",
    "\n",
    "# message per match for complexity level 2\n",
    "CL2_counts_df[\"message_per_match\"] = CL2_counts_df[\"messages\"]/CL2_counts_df[\"matches\"]\n",
    "# to remind us of the dataset\n",
    "# CL2_counts_df.head()\n",
    "\n",
    "# message per match for complexity level 3\n",
    "# CL3_counts_df[\"message_per_match\"] = CL3_counts_df[\"messages\"]/CL3_counts_df[\"matches\"]\n",
    "# # to remind us of the dataset\n",
    "# CL3_counts_df.head()"
   ]
  },
  {
   "cell_type": "code",
   "execution_count": 33,
   "metadata": {},
   "outputs": [
    {
     "name": "stdout",
     "output_type": "stream",
     "text": [
      "0.6810498040183517\n",
      "0.6839922734392176\n"
     ]
    },
    {
     "data": {
      "image/png": "[encoded data removed]",
      "text/plain": [
       "<Figure size 648x432 with 1 Axes>"
      ]
     },
     "metadata": {},
     "output_type": "display_data"
    }
   ],
   "source": [
    "# box plot\n",
    "data_to_plot = [CL1_counts_df[\"message_per_match\"], CL2_counts_df[\"message_per_match\"]]#, CL1_counts_df[\"message_per_match\"]]\n",
    "\n",
    "print(CL1_counts_df[\"message_per_match\"].mean())\n",
    "print(CL2_counts_df[\"message_per_match\"].mean())\n",
    "# print(CL3_counts_df[\"message_per_match\"].mean())\n",
    "\n",
    "# Create a figure instance\n",
    "fig = plt.figure(1, figsize=(9, 6))\n",
    "\n",
    "# Create an axes instance\n",
    "ax = fig.add_subplot(111)\n",
    "\n",
    "# Create the boxplot\n",
    "bp = ax.boxplot(data_to_plot)\n",
    "\n",
    "# Save the figure"
   ]
  },
  {
   "cell_type": "code",
   "execution_count": null,
   "metadata": {},
   "outputs": [],
   "source": [
    "# running an ANOVA test\n",
    "stats.f_oneway(CL1_counts_df['matches'], \n",
    "               CL2_counts_df['matches'],\n",
    "               CL3_counts_df['matches'])\n",
    "\n",
    "\n",
    "\n"
   ]
  },
  {
   "cell_type": "code",
   "execution_count": null,
   "metadata": {},
   "outputs": [],
   "source": []
  },
  {
   "cell_type": "code",
   "execution_count": null,
   "metadata": {},
   "outputs": [],
   "source": []
  },
  {
   "cell_type": "markdown",
   "metadata": {},
   "source": [
    "## Question 2\n",
    "\n",
    "To what extend do each of the attributes effect the male/female decision to like? What attribtues are statistically insignificant?  "
   ]
  },
  {
   "cell_type": "markdown",
   "metadata": {},
   "source": [
    "relationship between the count of likes and its position in the network\n",
    "\n",
    "if the attributes are interesting, do the unique combinations produce interesting positions\n",
    "would need to use Multiple regression quadratic assignment procedure\n",
    "in the SNA package in R\n",
    "\n",
    "y = mx1+.....\n",
    "\n",
    "\n",
    "\n",
    "\n",
    "how should the dataset look when it is exported\n",
    "count of likes,betweenness score, match the betweenness\n",
    "\n",
    "\n",
    "output every node, "
   ]
  },
  {
   "cell_type": "markdown",
   "metadata": {},
   "source": [
    "# Question 3\n",
    "\n",
    "What happens to the amount of matches/likes/dislikes when different parameters are used or when distributions are changed?"
   ]
  },
  {
   "cell_type": "code",
   "execution_count": null,
   "metadata": {},
   "outputs": [],
   "source": []
  },
  {
   "cell_type": "code",
   "execution_count": null,
   "metadata": {},
   "outputs": [],
   "source": []
  },
  {
   "cell_type": "code",
   "execution_count": null,
   "metadata": {},
   "outputs": [],
   "source": []
  },
  {
   "cell_type": "code",
   "execution_count": null,
   "metadata": {},
   "outputs": [],
   "source": []
  },
  {
   "cell_type": "code",
   "execution_count": null,
   "metadata": {},
   "outputs": [],
   "source": []
  },
  {
   "cell_type": "code",
   "execution_count": null,
   "metadata": {},
   "outputs": [],
   "source": []
  },
  {
   "cell_type": "code",
   "execution_count": null,
   "metadata": {},
   "outputs": [],
   "source": []
  },
  {
   "cell_type": "code",
   "execution_count": null,
   "metadata": {},
   "outputs": [],
   "source": []
  }
 ],
 "metadata": {
  "kernelspec": {
   "display_name": "Python 3",
   "language": "python",
   "name": "python3"
  },
  "language_info": {
   "codemirror_mode": {
    "name": "ipython",
    "version": 3
   },
   "file_extension": ".py",
   "mimetype": "text/x-python",
   "name": "python",
   "nbconvert_exporter": "python",
   "pygments_lexer": "ipython3",
   "version": "3.6.5"
  }
 },
 "nbformat": 4,
 "nbformat_minor": 4
}
